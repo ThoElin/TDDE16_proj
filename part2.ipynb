{
 "cells": [
  {
   "cell_type": "markdown",
   "metadata": {},
   "source": [
    "# Wine on Whiskey (mixed analysis)"
   ]
  },
  {
   "cell_type": "code",
   "execution_count": 1,
   "metadata": {},
   "outputs": [],
   "source": [
    "import pandas as pd\n",
    "import numpy as np\n",
    "import spacy\n",
    "\n",
    "from sklearn.feature_extraction.text import CountVectorizer\n",
    "from sklearn.naive_bayes import MultinomialNB \n",
    "from sklearn.svm import LinearSVC\n",
    "from sklearn.linear_model import LogisticRegression\n",
    "from sklearn.metrics import classification_report\n",
    "from sklearn.model_selection import train_test_split\n",
    "from sklearn.metrics import ConfusionMatrixDisplay\n",
    "import matplotlib.pyplot as plt\n",
    "import matplotlib as mpl\n",
    "import math"
   ]
  },
  {
   "cell_type": "code",
   "execution_count": 2,
   "metadata": {},
   "outputs": [],
   "source": [
    "font = {'size'   : 18}\n",
    "mpl.rc('font', **font) "
   ]
  },
  {
   "cell_type": "markdown",
   "metadata": {},
   "source": [
    "## Wine"
   ]
  },
  {
   "cell_type": "code",
   "execution_count": 3,
   "metadata": {},
   "outputs": [
    {
     "name": "stdout",
     "output_type": "stream",
     "text": [
      "Index(['country', 'description', 'designation', 'points', 'price', 'province',\n",
      "       'region_1', 'region_2', 'taster_name', 'taster_twitter_handle', 'title',\n",
      "       'variety', 'winery'],\n",
      "      dtype='object')\n",
      "(280901, 2)\n",
      "-----\n",
      "(169430, 2)\n"
     ]
    },
    {
     "data": {
      "text/html": [
       "<div>\n",
       "<style scoped>\n",
       "    .dataframe tbody tr th:only-of-type {\n",
       "        vertical-align: middle;\n",
       "    }\n",
       "\n",
       "    .dataframe tbody tr th {\n",
       "        vertical-align: top;\n",
       "    }\n",
       "\n",
       "    .dataframe thead th {\n",
       "        text-align: right;\n",
       "    }\n",
       "</style>\n",
       "<table border=\"1\" class=\"dataframe\">\n",
       "  <thead>\n",
       "    <tr style=\"text-align: right;\">\n",
       "      <th></th>\n",
       "      <th>description</th>\n",
       "      <th>points</th>\n",
       "    </tr>\n",
       "  </thead>\n",
       "  <tbody>\n",
       "    <tr>\n",
       "      <th>1</th>\n",
       "      <td>This is ripe and fruity, a wine that is smooth...</td>\n",
       "      <td>87</td>\n",
       "    </tr>\n",
       "    <tr>\n",
       "      <th>2</th>\n",
       "      <td>Tart and snappy, the flavors of lime flesh and...</td>\n",
       "      <td>87</td>\n",
       "    </tr>\n",
       "    <tr>\n",
       "      <th>3</th>\n",
       "      <td>Pineapple rind, lemon pith and orange blossom ...</td>\n",
       "      <td>87</td>\n",
       "    </tr>\n",
       "    <tr>\n",
       "      <th>4</th>\n",
       "      <td>Much like the regular bottling from 2012, this...</td>\n",
       "      <td>87</td>\n",
       "    </tr>\n",
       "  </tbody>\n",
       "</table>\n",
       "</div>"
      ],
      "text/plain": [
       "                                         description  points\n",
       "1  This is ripe and fruity, a wine that is smooth...      87\n",
       "2  Tart and snappy, the flavors of lime flesh and...      87\n",
       "3  Pineapple rind, lemon pith and orange blossom ...      87\n",
       "4  Much like the regular bottling from 2012, this...      87"
      ]
     },
     "execution_count": 3,
     "metadata": {},
     "output_type": "execute_result"
    }
   ],
   "source": [
    "# Read\n",
    "wine1 = pd.read_csv(\"Data/Wine/winemag-data-130k-v2.csv\", index_col=0)\n",
    "wine2 = pd.read_csv(\"Data/Wine/winemag-data_first150k.csv\", index_col=0)\n",
    "wineRevs = pd.concat([wine1, wine2])\n",
    "print(wineRevs.columns)\n",
    "\n",
    "# Rename\n",
    "wineRevs = wineRevs[['description', 'points']]\n",
    "\n",
    "# Remove duplicates \n",
    "print(wineRevs.shape)\n",
    "wineRevs = wineRevs.drop_duplicates(subset=['description']).reset_index(drop=True)\n",
    "print('-----')\n",
    "print(wineRevs.shape)\n",
    "wineRevs[1:5]"
   ]
  },
  {
   "cell_type": "code",
   "execution_count": 4,
   "metadata": {},
   "outputs": [],
   "source": [
    "nlp = spacy.load(\"en_core_web_lg\")\n",
    "description = []\n",
    "for desc in wineRevs['description']:\n",
    "    doc = nlp(desc) \n",
    "    description.append(' '.join([token.lemma_ for token in doc if (not token.is_stop and token.is_alpha)]))\n",
    "wineRevs['description'] = description"
   ]
  },
  {
   "cell_type": "code",
   "execution_count": 5,
   "metadata": {},
   "outputs": [],
   "source": [
    "df_wine = wineRevs.copy()\n",
    "points = []\n",
    "for row in df_wine.points:\n",
    "    if row < 90:\n",
    "        points.append(0)\n",
    "    else:\n",
    "        points.append(1)\n",
    "\n",
    "df_wine['points'] = points"
   ]
  },
  {
   "cell_type": "code",
   "execution_count": 6,
   "metadata": {},
   "outputs": [],
   "source": [
    "train_x, test_x, train_y, test_y = train_test_split(df_wine.description, df_wine.points, train_size=0.8, random_state=50)"
   ]
  },
  {
   "cell_type": "code",
   "execution_count": null,
   "metadata": {},
   "outputs": [],
   "source": [
    "cv = CountVectorizer()\n",
    "X_train = cv.fit_transform(train_x)\n",
    "X_test = cv.transform(test_x)"
   ]
  },
  {
   "cell_type": "code",
   "execution_count": 8,
   "metadata": {},
   "outputs": [
    {
     "name": "stdout",
     "output_type": "stream",
     "text": [
      "              precision    recall  f1-score   support\n",
      "\n",
      "           0       0.86      0.82      0.84     21667\n",
      "           1       0.70      0.77      0.74     12219\n",
      "\n",
      "    accuracy                           0.80     33886\n",
      "   macro avg       0.78      0.79      0.79     33886\n",
      "weighted avg       0.81      0.80      0.80     33886\n",
      "\n"
     ]
    }
   ],
   "source": [
    "classifier_naive = MultinomialNB()\n",
    "classifier_naive.fit(X_train, train_y)\n",
    "prediction_naive = classifier_naive.predict(X_test)\n",
    "print(classification_report(test_y, prediction_naive))"
   ]
  },
  {
   "cell_type": "code",
   "execution_count": 10,
   "metadata": {},
   "outputs": [
    {
     "name": "stdout",
     "output_type": "stream",
     "text": [
      "              precision    recall  f1-score   support\n",
      "\n",
      "           0       0.85      0.89      0.87     21667\n",
      "           1       0.78      0.73      0.76     12219\n",
      "\n",
      "    accuracy                           0.83     33886\n",
      "   macro avg       0.82      0.81      0.81     33886\n",
      "weighted avg       0.83      0.83      0.83     33886\n",
      "\n"
     ]
    }
   ],
   "source": [
    "svm = LinearSVC(dual=False)\n",
    "svm.fit(X_train, train_y)\n",
    "prediction_svm = svm.predict(X_test)\n",
    "print(classification_report(test_y, prediction_svm))"
   ]
  },
  {
   "cell_type": "markdown",
   "metadata": {},
   "source": [
    "## Whiskey"
   ]
  },
  {
   "cell_type": "code",
   "execution_count": 13,
   "metadata": {},
   "outputs": [
    {
     "name": "stdout",
     "output_type": "stream",
     "text": [
      "Index(['name', 'category', 'review.point', 'price', 'currency', 'description'], dtype='object')\n",
      "(2247, 2)\n",
      "-----\n",
      "(2245, 2)\n"
     ]
    },
    {
     "data": {
      "text/html": [
       "<div>\n",
       "<style scoped>\n",
       "    .dataframe tbody tr th:only-of-type {\n",
       "        vertical-align: middle;\n",
       "    }\n",
       "\n",
       "    .dataframe tbody tr th {\n",
       "        vertical-align: top;\n",
       "    }\n",
       "\n",
       "    .dataframe thead th {\n",
       "        text-align: right;\n",
       "    }\n",
       "</style>\n",
       "<table border=\"1\" class=\"dataframe\">\n",
       "  <thead>\n",
       "    <tr style=\"text-align: right;\">\n",
       "      <th></th>\n",
       "      <th>description</th>\n",
       "      <th>points</th>\n",
       "    </tr>\n",
       "  </thead>\n",
       "  <tbody>\n",
       "    <tr>\n",
       "      <th>1</th>\n",
       "      <td>What impresses me most is how this whisky evol...</td>\n",
       "      <td>97</td>\n",
       "    </tr>\n",
       "    <tr>\n",
       "      <th>2</th>\n",
       "      <td>There have been some legendary Bowmores from t...</td>\n",
       "      <td>97</td>\n",
       "    </tr>\n",
       "    <tr>\n",
       "      <th>3</th>\n",
       "      <td>With a name inspired by a 1926 Buster Keaton m...</td>\n",
       "      <td>96</td>\n",
       "    </tr>\n",
       "    <tr>\n",
       "      <th>4</th>\n",
       "      <td>Captivating, enticing, and wonderfully charmin...</td>\n",
       "      <td>96</td>\n",
       "    </tr>\n",
       "  </tbody>\n",
       "</table>\n",
       "</div>"
      ],
      "text/plain": [
       "                                         description  points\n",
       "1  What impresses me most is how this whisky evol...      97\n",
       "2  There have been some legendary Bowmores from t...      97\n",
       "3  With a name inspired by a 1926 Buster Keaton m...      96\n",
       "4  Captivating, enticing, and wonderfully charmin...      96"
      ]
     },
     "execution_count": 13,
     "metadata": {},
     "output_type": "execute_result"
    }
   ],
   "source": [
    "# Read\n",
    "whiskeyRevs = pd.read_csv(\"Data/Whiskey/scotch_review.csv \", index_col=0)\n",
    "print(whiskeyRevs.columns)\n",
    "\n",
    "# Rename\n",
    "whiskeyRevs = whiskeyRevs[['description', 'review.point']].rename(columns={'review.point' : 'points'})\n",
    "print(whiskeyRevs.shape)\n",
    "\n",
    "# Remove duplicates \n",
    "whiskeyRevs = whiskeyRevs.drop_duplicates(subset=['description']).reset_index(drop=True)\n",
    "print('-----')\n",
    "print(whiskeyRevs.shape)\n",
    "whiskeyRevs[1:5]"
   ]
  },
  {
   "cell_type": "code",
   "execution_count": 14,
   "metadata": {},
   "outputs": [],
   "source": [
    "nlp = spacy.load(\"en_core_web_lg\")\n",
    "description = []\n",
    "for desc in whiskeyRevs['description']:\n",
    "    doc = nlp(desc) \n",
    "    description.append(' '.join([token.lemma_ for token in doc if (not token.is_stop and token.is_alpha)]))\n",
    "whiskeyRevs['description'] = description"
   ]
  },
  {
   "cell_type": "code",
   "execution_count": 15,
   "metadata": {},
   "outputs": [],
   "source": [
    "df_whiskey = whiskeyRevs.copy()\n",
    "points = []\n",
    "for row in df_whiskey.points:\n",
    "    if row < 90:\n",
    "        points.append(0)\n",
    "    else:\n",
    "        points.append(1)\n",
    "\n",
    "df_whiskey['points'] = points"
   ]
  },
  {
   "cell_type": "code",
   "execution_count": 16,
   "metadata": {},
   "outputs": [],
   "source": [
    "train_x, test_x, train_y, test_y = train_test_split(df_whiskey.description, df_whiskey.points, train_size=0.8, random_state=50)"
   ]
  },
  {
   "cell_type": "code",
   "execution_count": 17,
   "metadata": {},
   "outputs": [],
   "source": [
    "X_train = cv.transform(train_x)\n",
    "X_test = cv.transform(test_x)"
   ]
  },
  {
   "cell_type": "code",
   "execution_count": 18,
   "metadata": {},
   "outputs": [
    {
     "name": "stdout",
     "output_type": "stream",
     "text": [
      "              precision    recall  f1-score   support\n",
      "\n",
      "           0       0.85      0.48      0.61       330\n",
      "           1       0.35      0.76      0.48       119\n",
      "\n",
      "    accuracy                           0.55       449\n",
      "   macro avg       0.60      0.62      0.54       449\n",
      "weighted avg       0.72      0.55      0.58       449\n",
      "\n"
     ]
    }
   ],
   "source": [
    "prediction_naive = classifier_naive.predict(X_test)\n",
    "print(classification_report(test_y, prediction_naive))"
   ]
  },
  {
   "cell_type": "code",
   "execution_count": 19,
   "metadata": {},
   "outputs": [
    {
     "data": {
      "image/png": "[encoded data removed]",
      "text/plain": [
       "<Figure size 640x480 with 1 Axes>"
      ]
     },
     "metadata": {},
     "output_type": "display_data"
    },
    {
     "data": {
      "text/plain": [
       "<Figure size 640x480 with 0 Axes>"
      ]
     },
     "metadata": {},
     "output_type": "display_data"
    }
   ],
   "source": [
    "cm_svm = ConfusionMatrixDisplay.from_estimator(classifier_naive, X_test, test_y, display_labels=['Negative', 'Positive'], cmap='Blues', colorbar=False)\n",
    "plt.yticks(rotation=40)\n",
    "plt.ylabel('True reviews', fontsize=20)\n",
    "plt.xlabel('Predicted reviews', fontsize=20)\n",
    "plt.show()\n",
    "plt.savefig('Graphs/CM_naive_WineWhiskey.pdf', format=\"pdf\", bbox_inches=\"tight\")"
   ]
  },
  {
   "cell_type": "code",
   "execution_count": 20,
   "metadata": {},
   "outputs": [
    {
     "name": "stdout",
     "output_type": "stream",
     "text": [
      "              precision    recall  f1-score   support\n",
      "\n",
      "           0       0.92      0.39      0.55       330\n",
      "           1       0.35      0.90      0.50       119\n",
      "\n",
      "    accuracy                           0.53       449\n",
      "   macro avg       0.63      0.65      0.53       449\n",
      "weighted avg       0.77      0.53      0.54       449\n",
      "\n"
     ]
    }
   ],
   "source": [
    "prediction_svm = svm.predict(X_test)\n",
    "print(classification_report(test_y, prediction_svm))"
   ]
  },
  {
   "cell_type": "code",
   "execution_count": 21,
   "metadata": {},
   "outputs": [
    {
     "data": {
      "image/png": "[encoded data removed]",
      "text/plain": [
       "<Figure size 640x480 with 1 Axes>"
      ]
     },
     "metadata": {},
     "output_type": "display_data"
    },
    {
     "data": {
      "text/plain": [
       "<Figure size 640x480 with 0 Axes>"
      ]
     },
     "metadata": {},
     "output_type": "display_data"
    }
   ],
   "source": [
    "cm_svm = ConfusionMatrixDisplay.from_estimator(svm, X_test, test_y, display_labels=['Negative', 'Positive'], cmap='Blues', colorbar=False)\n",
    "plt.yticks(rotation=40)\n",
    "plt.ylabel('True reviews', fontsize=20)\n",
    "plt.xlabel('Predicted reviews', fontsize=20)\n",
    "plt.show()\n",
    "plt.savefig('Graphs/CM_svm_WineWhiskey.pdf', format=\"pdf\", bbox_inches=\"tight\")"
   ]
  },
  {
   "cell_type": "markdown",
   "metadata": {},
   "source": [
    "### On all data (like 100%)"
   ]
  },
  {
   "cell_type": "code",
   "execution_count": 22,
   "metadata": {},
   "outputs": [],
   "source": [
    "train_x, test_x, train_y, test_y = train_test_split(df_whiskey.description, df_whiskey.points, test_size=0.99, random_state=50)"
   ]
  },
  {
   "cell_type": "code",
   "execution_count": 23,
   "metadata": {},
   "outputs": [],
   "source": [
    "X_train = cv.transform(train_x)\n",
    "X_test = cv.transform(test_x)"
   ]
  },
  {
   "cell_type": "code",
   "execution_count": 24,
   "metadata": {},
   "outputs": [
    {
     "name": "stdout",
     "output_type": "stream",
     "text": [
      "              precision    recall  f1-score   support\n",
      "\n",
      "           0       0.89      0.49      0.63      1661\n",
      "           1       0.35      0.82      0.49       562\n",
      "\n",
      "    accuracy                           0.57      2223\n",
      "   macro avg       0.62      0.66      0.56      2223\n",
      "weighted avg       0.75      0.57      0.60      2223\n",
      "\n"
     ]
    }
   ],
   "source": [
    "prediction_naive = classifier_naive.predict(X_test)\n",
    "print(classification_report(test_y, prediction_naive))"
   ]
  },
  {
   "cell_type": "code",
   "execution_count": 25,
   "metadata": {},
   "outputs": [
    {
     "name": "stdout",
     "output_type": "stream",
     "text": [
      "              precision    recall  f1-score   support\n",
      "\n",
      "           0       0.89      0.38      0.53      1661\n",
      "           1       0.32      0.86      0.46       562\n",
      "\n",
      "    accuracy                           0.50      2223\n",
      "   macro avg       0.60      0.62      0.50      2223\n",
      "weighted avg       0.74      0.50      0.51      2223\n",
      "\n"
     ]
    }
   ],
   "source": [
    "prediction_svm = svm.predict(X_test)\n",
    "print(classification_report(test_y, prediction_svm))"
   ]
  }
 ],
 "metadata": {
  "kernelspec": {
   "display_name": "tdde19",
   "language": "python",
   "name": "python3"
  },
  "language_info": {
   "codemirror_mode": {
    "name": "ipython",
    "version": 3
   },
   "file_extension": ".py",
   "mimetype": "text/x-python",
   "name": "python",
   "nbconvert_exporter": "python",
   "pygments_lexer": "ipython3",
   "version": "3.11.3"
  }
 },
 "nbformat": 4,
 "nbformat_minor": 2
}
